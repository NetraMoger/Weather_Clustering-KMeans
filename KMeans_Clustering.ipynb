{
  "nbformat": 4,
  "nbformat_minor": 0,
  "metadata": {
    "colab": {
      "name": "KMeans-Clustering.ipynb",
      "provenance": [],
      "collapsed_sections": [],
      "authorship_tag": "ABX9TyNdW/jRzWmRLKOMHbWFNcon",
      "include_colab_link": true
    },
    "kernelspec": {
      "name": "python3",
      "display_name": "Python 3"
    },
    "language_info": {
      "name": "python"
    },
    "accelerator": "GPU"
  },
  "cells": [
    {
      "cell_type": "markdown",
      "metadata": {
        "id": "view-in-github",
        "colab_type": "text"
      },
      "source": [
        "<a href=\"https://colab.research.google.com/github/NetraMoger/Weather_Clustering-KMeans/blob/main/KMeans_Clustering.ipynb\" target=\"_parent\"><img src=\"https://colab.research.google.com/assets/colab-badge.svg\" alt=\"Open In Colab\"/></a>"
      ]
    },
    {
      "cell_type": "code",
      "metadata": {
        "id": "EVCVoRxOSkkM"
      },
      "source": [
        "#https://www.kaggle.com/prakharrathi25/weather-data-clustering-using-k-means\n",
        "\n",
        "import pandas as pd\n",
        "from sklearn.preprocessing import StandardScaler \n",
        "from sklearn.cluster import KMeans\n",
        "from itertools import cycle, islice\n",
        "from pandas.plotting import parallel_coordinates\n",
        "import matplotlib.pyplot as plt\n",
        "\n",
        "%matplotlib inline\n"
      ],
      "execution_count": 155,
      "outputs": []
    },
    {
      "cell_type": "code",
      "metadata": {
        "id": "2pdPZg8cUQZB",
        "colab": {
          "base_uri": "https://localhost:8080/",
          "height": 35
        },
        "outputId": "0d880a83-eb52-46ca-d750-14805d45a43c"
      },
      "source": [
        "import os\n",
        "os.getcwd()"
      ],
      "execution_count": 3,
      "outputs": [
        {
          "output_type": "execute_result",
          "data": {
            "application/vnd.google.colaboratory.intrinsic+json": {
              "type": "string"
            },
            "text/plain": [
              "'/content'"
            ]
          },
          "metadata": {
            "tags": []
          },
          "execution_count": 3
        }
      ]
    },
    {
      "cell_type": "code",
      "metadata": {
        "colab": {
          "base_uri": "https://localhost:8080/"
        },
        "id": "YBH6IAoVsBH2",
        "outputId": "36e46bf1-e975-4853-a836-a4690feaa51a"
      },
      "source": [
        "%cd"
      ],
      "execution_count": 4,
      "outputs": [
        {
          "output_type": "stream",
          "text": [
            "/root\n"
          ],
          "name": "stdout"
        }
      ]
    },
    {
      "cell_type": "code",
      "metadata": {
        "colab": {
          "base_uri": "https://localhost:8080/",
          "height": 35
        },
        "id": "-MvPHaK1vJgU",
        "outputId": "b06b91be-4e13-4482-dbd9-8f74389d5c9c"
      },
      "source": [
        "os.getcwd()"
      ],
      "execution_count": 5,
      "outputs": [
        {
          "output_type": "execute_result",
          "data": {
            "application/vnd.google.colaboratory.intrinsic+json": {
              "type": "string"
            },
            "text/plain": [
              "'/root'"
            ]
          },
          "metadata": {
            "tags": []
          },
          "execution_count": 5
        }
      ]
    },
    {
      "cell_type": "code",
      "metadata": {
        "id": "rjDVGsV1vMkI"
      },
      "source": [
        "df = pd.read_csv('/root/minute_weather.csv')"
      ],
      "execution_count": 17,
      "outputs": []
    },
    {
      "cell_type": "code",
      "metadata": {
        "colab": {
          "base_uri": "https://localhost:8080/",
          "height": 437
        },
        "id": "-yz54eAYvyr_",
        "outputId": "a006a68e-59bc-4dd9-c773-d2bf5f724526"
      },
      "source": [
        "df"
      ],
      "execution_count": 18,
      "outputs": [
        {
          "output_type": "execute_result",
          "data": {
            "text/html": [
              "<div>\n",
              "<style scoped>\n",
              "    .dataframe tbody tr th:only-of-type {\n",
              "        vertical-align: middle;\n",
              "    }\n",
              "\n",
              "    .dataframe tbody tr th {\n",
              "        vertical-align: top;\n",
              "    }\n",
              "\n",
              "    .dataframe thead th {\n",
              "        text-align: right;\n",
              "    }\n",
              "</style>\n",
              "<table border=\"1\" class=\"dataframe\">\n",
              "  <thead>\n",
              "    <tr style=\"text-align: right;\">\n",
              "      <th></th>\n",
              "      <th>rowID</th>\n",
              "      <th>hpwren_timestamp</th>\n",
              "      <th>air_pressure</th>\n",
              "      <th>air_temp</th>\n",
              "      <th>avg_wind_direction</th>\n",
              "      <th>avg_wind_speed</th>\n",
              "      <th>max_wind_direction</th>\n",
              "      <th>max_wind_speed</th>\n",
              "      <th>min_wind_direction</th>\n",
              "      <th>min_wind_speed</th>\n",
              "      <th>rain_accumulation</th>\n",
              "      <th>rain_duration</th>\n",
              "      <th>relative_humidity</th>\n",
              "    </tr>\n",
              "  </thead>\n",
              "  <tbody>\n",
              "    <tr>\n",
              "      <th>0</th>\n",
              "      <td>0</td>\n",
              "      <td>10-09-2011 00:00</td>\n",
              "      <td>912.3</td>\n",
              "      <td>64.76</td>\n",
              "      <td>97.0</td>\n",
              "      <td>1.2</td>\n",
              "      <td>106.0</td>\n",
              "      <td>1.6</td>\n",
              "      <td>85.0</td>\n",
              "      <td>1.0</td>\n",
              "      <td>NaN</td>\n",
              "      <td>NaN</td>\n",
              "      <td>60.5</td>\n",
              "    </tr>\n",
              "    <tr>\n",
              "      <th>1</th>\n",
              "      <td>1</td>\n",
              "      <td>10-09-2011 00:01</td>\n",
              "      <td>912.3</td>\n",
              "      <td>63.86</td>\n",
              "      <td>161.0</td>\n",
              "      <td>0.8</td>\n",
              "      <td>215.0</td>\n",
              "      <td>1.5</td>\n",
              "      <td>43.0</td>\n",
              "      <td>0.2</td>\n",
              "      <td>0.0</td>\n",
              "      <td>0.0</td>\n",
              "      <td>39.9</td>\n",
              "    </tr>\n",
              "    <tr>\n",
              "      <th>2</th>\n",
              "      <td>2</td>\n",
              "      <td>10-09-2011 00:02</td>\n",
              "      <td>912.3</td>\n",
              "      <td>64.22</td>\n",
              "      <td>77.0</td>\n",
              "      <td>0.7</td>\n",
              "      <td>143.0</td>\n",
              "      <td>1.2</td>\n",
              "      <td>324.0</td>\n",
              "      <td>0.3</td>\n",
              "      <td>0.0</td>\n",
              "      <td>0.0</td>\n",
              "      <td>43.0</td>\n",
              "    </tr>\n",
              "    <tr>\n",
              "      <th>3</th>\n",
              "      <td>3</td>\n",
              "      <td>10-09-2011 00:03</td>\n",
              "      <td>912.3</td>\n",
              "      <td>64.40</td>\n",
              "      <td>89.0</td>\n",
              "      <td>1.2</td>\n",
              "      <td>112.0</td>\n",
              "      <td>1.6</td>\n",
              "      <td>12.0</td>\n",
              "      <td>0.7</td>\n",
              "      <td>0.0</td>\n",
              "      <td>0.0</td>\n",
              "      <td>49.5</td>\n",
              "    </tr>\n",
              "    <tr>\n",
              "      <th>4</th>\n",
              "      <td>4</td>\n",
              "      <td>10-09-2011 00:04</td>\n",
              "      <td>912.3</td>\n",
              "      <td>64.40</td>\n",
              "      <td>185.0</td>\n",
              "      <td>0.4</td>\n",
              "      <td>260.0</td>\n",
              "      <td>1.0</td>\n",
              "      <td>100.0</td>\n",
              "      <td>0.1</td>\n",
              "      <td>0.0</td>\n",
              "      <td>0.0</td>\n",
              "      <td>58.8</td>\n",
              "    </tr>\n",
              "    <tr>\n",
              "      <th>...</th>\n",
              "      <td>...</td>\n",
              "      <td>...</td>\n",
              "      <td>...</td>\n",
              "      <td>...</td>\n",
              "      <td>...</td>\n",
              "      <td>...</td>\n",
              "      <td>...</td>\n",
              "      <td>...</td>\n",
              "      <td>...</td>\n",
              "      <td>...</td>\n",
              "      <td>...</td>\n",
              "      <td>...</td>\n",
              "      <td>...</td>\n",
              "    </tr>\n",
              "    <tr>\n",
              "      <th>1048570</th>\n",
              "      <td>1048570</td>\n",
              "      <td>16-08-2013 04:48</td>\n",
              "      <td>916.6</td>\n",
              "      <td>78.62</td>\n",
              "      <td>195.0</td>\n",
              "      <td>1.0</td>\n",
              "      <td>196.0</td>\n",
              "      <td>1.1</td>\n",
              "      <td>194.0</td>\n",
              "      <td>0.9</td>\n",
              "      <td>0.0</td>\n",
              "      <td>0.0</td>\n",
              "      <td>9.1</td>\n",
              "    </tr>\n",
              "    <tr>\n",
              "      <th>1048571</th>\n",
              "      <td>1048571</td>\n",
              "      <td>16-08-2013 04:49</td>\n",
              "      <td>916.6</td>\n",
              "      <td>78.62</td>\n",
              "      <td>192.0</td>\n",
              "      <td>0.9</td>\n",
              "      <td>193.0</td>\n",
              "      <td>0.9</td>\n",
              "      <td>192.0</td>\n",
              "      <td>0.8</td>\n",
              "      <td>0.0</td>\n",
              "      <td>0.0</td>\n",
              "      <td>8.8</td>\n",
              "    </tr>\n",
              "    <tr>\n",
              "      <th>1048572</th>\n",
              "      <td>1048572</td>\n",
              "      <td>16-08-2013 04:50</td>\n",
              "      <td>916.6</td>\n",
              "      <td>78.62</td>\n",
              "      <td>186.0</td>\n",
              "      <td>0.7</td>\n",
              "      <td>186.0</td>\n",
              "      <td>0.8</td>\n",
              "      <td>186.0</td>\n",
              "      <td>0.6</td>\n",
              "      <td>0.0</td>\n",
              "      <td>0.0</td>\n",
              "      <td>8.6</td>\n",
              "    </tr>\n",
              "    <tr>\n",
              "      <th>1048573</th>\n",
              "      <td>1048573</td>\n",
              "      <td>16-08-2013 04:51</td>\n",
              "      <td>916.6</td>\n",
              "      <td>78.62</td>\n",
              "      <td>176.0</td>\n",
              "      <td>0.6</td>\n",
              "      <td>178.0</td>\n",
              "      <td>0.7</td>\n",
              "      <td>175.0</td>\n",
              "      <td>0.5</td>\n",
              "      <td>0.0</td>\n",
              "      <td>0.0</td>\n",
              "      <td>7.1</td>\n",
              "    </tr>\n",
              "    <tr>\n",
              "      <th>1048574</th>\n",
              "      <td>1048574</td>\n",
              "      <td>16-08-2013 04:52</td>\n",
              "      <td>916.6</td>\n",
              "      <td>78.62</td>\n",
              "      <td>161.0</td>\n",
              "      <td>0.7</td>\n",
              "      <td>162.0</td>\n",
              "      <td>0.8</td>\n",
              "      <td>160.0</td>\n",
              "      <td>0.6</td>\n",
              "      <td>0.0</td>\n",
              "      <td>0.0</td>\n",
              "      <td>7.4</td>\n",
              "    </tr>\n",
              "  </tbody>\n",
              "</table>\n",
              "<p>1048575 rows × 13 columns</p>\n",
              "</div>"
            ],
            "text/plain": [
              "           rowID  hpwren_timestamp  ...  rain_duration  relative_humidity\n",
              "0              0  10-09-2011 00:00  ...            NaN               60.5\n",
              "1              1  10-09-2011 00:01  ...            0.0               39.9\n",
              "2              2  10-09-2011 00:02  ...            0.0               43.0\n",
              "3              3  10-09-2011 00:03  ...            0.0               49.5\n",
              "4              4  10-09-2011 00:04  ...            0.0               58.8\n",
              "...          ...               ...  ...            ...                ...\n",
              "1048570  1048570  16-08-2013 04:48  ...            0.0                9.1\n",
              "1048571  1048571  16-08-2013 04:49  ...            0.0                8.8\n",
              "1048572  1048572  16-08-2013 04:50  ...            0.0                8.6\n",
              "1048573  1048573  16-08-2013 04:51  ...            0.0                7.1\n",
              "1048574  1048574  16-08-2013 04:52  ...            0.0                7.4\n",
              "\n",
              "[1048575 rows x 13 columns]"
            ]
          },
          "metadata": {
            "tags": []
          },
          "execution_count": 18
        }
      ]
    },
    {
      "cell_type": "code",
      "metadata": {
        "colab": {
          "base_uri": "https://localhost:8080/"
        },
        "id": "cIOoNb5MyHEs",
        "outputId": "bda1adb3-2269-4075-fce4-baabbeea8c7b"
      },
      "source": [
        "df.shape"
      ],
      "execution_count": 19,
      "outputs": [
        {
          "output_type": "execute_result",
          "data": {
            "text/plain": [
              "(1048575, 13)"
            ]
          },
          "metadata": {
            "tags": []
          },
          "execution_count": 19
        }
      ]
    },
    {
      "cell_type": "markdown",
      "metadata": {
        "id": "2iQNZujB6Vyp"
      },
      "source": [
        "**allmeaning of the columns** \n",
        "### hpwren_timestamp -  date time stamp for every minute data\n",
        "### air_pressure - pressure within the atmosphere of the earth , formaul is there\n",
        "### air temporature - temperature in atmosphere, its measure how what and cold air is\n",
        "### avg_wind_direction - ,  \n",
        "1. finding wind flow from west to east , rather than north-south \n",
        "2. wtvr earth's rotation generates is called as coriolis effect\n",
        "3. This effect makes twister\n",
        "4. clock wise in northen hemisphere\n",
        "5. clockwise in southern hemishpere\n",
        "\n",
        "### avg_wind_speed - In the U.S., daily wind speeds typically average between 6 and 12 miles per hour (10 and 19 kilometers per hour) throughout the course of a year\n",
        "\n",
        "### rain accumulation - how much rain accumalted on earth.. 1cm or anything\n",
        "\n",
        "### rain duration - how long it rained\n",
        "\n",
        "\n",
        "\n"
      ]
    },
    {
      "cell_type": "code",
      "metadata": {
        "colab": {
          "base_uri": "https://localhost:8080/",
          "height": 223
        },
        "id": "bAwskNW_yMGv",
        "outputId": "b88e717f-d4ca-4765-e099-481100492c10"
      },
      "source": [
        "df.head()\n",
        "\n"
      ],
      "execution_count": 21,
      "outputs": [
        {
          "output_type": "execute_result",
          "data": {
            "text/html": [
              "<div>\n",
              "<style scoped>\n",
              "    .dataframe tbody tr th:only-of-type {\n",
              "        vertical-align: middle;\n",
              "    }\n",
              "\n",
              "    .dataframe tbody tr th {\n",
              "        vertical-align: top;\n",
              "    }\n",
              "\n",
              "    .dataframe thead th {\n",
              "        text-align: right;\n",
              "    }\n",
              "</style>\n",
              "<table border=\"1\" class=\"dataframe\">\n",
              "  <thead>\n",
              "    <tr style=\"text-align: right;\">\n",
              "      <th></th>\n",
              "      <th>rowID</th>\n",
              "      <th>hpwren_timestamp</th>\n",
              "      <th>air_pressure</th>\n",
              "      <th>air_temp</th>\n",
              "      <th>avg_wind_direction</th>\n",
              "      <th>avg_wind_speed</th>\n",
              "      <th>max_wind_direction</th>\n",
              "      <th>max_wind_speed</th>\n",
              "      <th>min_wind_direction</th>\n",
              "      <th>min_wind_speed</th>\n",
              "      <th>rain_accumulation</th>\n",
              "      <th>rain_duration</th>\n",
              "      <th>relative_humidity</th>\n",
              "    </tr>\n",
              "  </thead>\n",
              "  <tbody>\n",
              "    <tr>\n",
              "      <th>0</th>\n",
              "      <td>0</td>\n",
              "      <td>10-09-2011 00:00</td>\n",
              "      <td>912.3</td>\n",
              "      <td>64.76</td>\n",
              "      <td>97.0</td>\n",
              "      <td>1.2</td>\n",
              "      <td>106.0</td>\n",
              "      <td>1.6</td>\n",
              "      <td>85.0</td>\n",
              "      <td>1.0</td>\n",
              "      <td>NaN</td>\n",
              "      <td>NaN</td>\n",
              "      <td>60.5</td>\n",
              "    </tr>\n",
              "    <tr>\n",
              "      <th>1</th>\n",
              "      <td>1</td>\n",
              "      <td>10-09-2011 00:01</td>\n",
              "      <td>912.3</td>\n",
              "      <td>63.86</td>\n",
              "      <td>161.0</td>\n",
              "      <td>0.8</td>\n",
              "      <td>215.0</td>\n",
              "      <td>1.5</td>\n",
              "      <td>43.0</td>\n",
              "      <td>0.2</td>\n",
              "      <td>0.0</td>\n",
              "      <td>0.0</td>\n",
              "      <td>39.9</td>\n",
              "    </tr>\n",
              "    <tr>\n",
              "      <th>2</th>\n",
              "      <td>2</td>\n",
              "      <td>10-09-2011 00:02</td>\n",
              "      <td>912.3</td>\n",
              "      <td>64.22</td>\n",
              "      <td>77.0</td>\n",
              "      <td>0.7</td>\n",
              "      <td>143.0</td>\n",
              "      <td>1.2</td>\n",
              "      <td>324.0</td>\n",
              "      <td>0.3</td>\n",
              "      <td>0.0</td>\n",
              "      <td>0.0</td>\n",
              "      <td>43.0</td>\n",
              "    </tr>\n",
              "    <tr>\n",
              "      <th>3</th>\n",
              "      <td>3</td>\n",
              "      <td>10-09-2011 00:03</td>\n",
              "      <td>912.3</td>\n",
              "      <td>64.40</td>\n",
              "      <td>89.0</td>\n",
              "      <td>1.2</td>\n",
              "      <td>112.0</td>\n",
              "      <td>1.6</td>\n",
              "      <td>12.0</td>\n",
              "      <td>0.7</td>\n",
              "      <td>0.0</td>\n",
              "      <td>0.0</td>\n",
              "      <td>49.5</td>\n",
              "    </tr>\n",
              "    <tr>\n",
              "      <th>4</th>\n",
              "      <td>4</td>\n",
              "      <td>10-09-2011 00:04</td>\n",
              "      <td>912.3</td>\n",
              "      <td>64.40</td>\n",
              "      <td>185.0</td>\n",
              "      <td>0.4</td>\n",
              "      <td>260.0</td>\n",
              "      <td>1.0</td>\n",
              "      <td>100.0</td>\n",
              "      <td>0.1</td>\n",
              "      <td>0.0</td>\n",
              "      <td>0.0</td>\n",
              "      <td>58.8</td>\n",
              "    </tr>\n",
              "  </tbody>\n",
              "</table>\n",
              "</div>"
            ],
            "text/plain": [
              "   rowID  hpwren_timestamp  ...  rain_duration  relative_humidity\n",
              "0      0  10-09-2011 00:00  ...            NaN               60.5\n",
              "1      1  10-09-2011 00:01  ...            0.0               39.9\n",
              "2      2  10-09-2011 00:02  ...            0.0               43.0\n",
              "3      3  10-09-2011 00:03  ...            0.0               49.5\n",
              "4      4  10-09-2011 00:04  ...            0.0               58.8\n",
              "\n",
              "[5 rows x 13 columns]"
            ]
          },
          "metadata": {
            "tags": []
          },
          "execution_count": 21
        }
      ]
    },
    {
      "cell_type": "code",
      "metadata": {
        "id": "WICqDDNezsyT"
      },
      "source": [
        "maindf = df[df['rowID']%10==0]"
      ],
      "execution_count": 22,
      "outputs": []
    },
    {
      "cell_type": "code",
      "metadata": {
        "colab": {
          "base_uri": "https://localhost:8080/"
        },
        "id": "Sm4zOxV33NaL",
        "outputId": "c01ffba4-3583-4976-f5ed-86dacd89eef4"
      },
      "source": [
        "maindf.columns"
      ],
      "execution_count": 26,
      "outputs": [
        {
          "output_type": "execute_result",
          "data": {
            "text/plain": [
              "Index(['rowID', 'hpwren_timestamp', 'air_pressure', 'air_temp',\n",
              "       'avg_wind_direction', 'avg_wind_speed', 'max_wind_direction',\n",
              "       'max_wind_speed', 'min_wind_direction', 'min_wind_speed',\n",
              "       'rain_accumulation', 'rain_duration', 'relative_humidity'],\n",
              "      dtype='object')"
            ]
          },
          "metadata": {
            "tags": []
          },
          "execution_count": 26
        }
      ]
    },
    {
      "cell_type": "code",
      "metadata": {
        "colab": {
          "base_uri": "https://localhost:8080/"
        },
        "id": "q9dVzo7E3P-S",
        "outputId": "474b68f9-c0c9-4210-b3f3-84c41b80558d"
      },
      "source": [
        "maindf[maindf['rain_accumulation']==0].shape"
      ],
      "execution_count": 28,
      "outputs": [
        {
          "output_type": "execute_result",
          "data": {
            "text/plain": [
              "(104152, 13)"
            ]
          },
          "metadata": {
            "tags": []
          },
          "execution_count": 28
        }
      ]
    },
    {
      "cell_type": "code",
      "metadata": {
        "colab": {
          "base_uri": "https://localhost:8080/"
        },
        "id": "Abojdp_j3ZYa",
        "outputId": "76759509-fa70-4010-903d-a9829bcce4aa"
      },
      "source": [
        "maindf[maindf['rain_duration']==0].shape"
      ],
      "execution_count": 29,
      "outputs": [
        {
          "output_type": "execute_result",
          "data": {
            "text/plain": [
              "(103726, 13)"
            ]
          },
          "metadata": {
            "tags": []
          },
          "execution_count": 29
        }
      ]
    },
    {
      "cell_type": "code",
      "metadata": {
        "id": "3mEZ3dxl-PGP"
      },
      "source": [
        "del maindf['rain_duration']\n"
      ],
      "execution_count": 31,
      "outputs": []
    },
    {
      "cell_type": "code",
      "metadata": {
        "id": "vQWZ9-ft-WYW"
      },
      "source": [
        "del maindf['rain_accumulation']\n"
      ],
      "execution_count": 33,
      "outputs": []
    },
    {
      "cell_type": "code",
      "metadata": {
        "colab": {
          "base_uri": "https://localhost:8080/"
        },
        "id": "O_at3H8Z-TYI",
        "outputId": "b71d4d57-f371-4274-a9f2-dbc024f8cc4a"
      },
      "source": [
        "maindf.shape"
      ],
      "execution_count": 34,
      "outputs": [
        {
          "output_type": "execute_result",
          "data": {
            "text/plain": [
              "(104858, 11)"
            ]
          },
          "metadata": {
            "tags": []
          },
          "execution_count": 34
        }
      ]
    },
    {
      "cell_type": "code",
      "metadata": {
        "id": "UUKPOWWI3cXJ"
      },
      "source": [
        "bf = maindf.shape[0]"
      ],
      "execution_count": 35,
      "outputs": []
    },
    {
      "cell_type": "code",
      "metadata": {
        "id": "3EUDu7pd-SXW"
      },
      "source": [
        ""
      ],
      "execution_count": null,
      "outputs": []
    },
    {
      "cell_type": "code",
      "metadata": {
        "colab": {
          "base_uri": "https://localhost:8080/"
        },
        "id": "arI0ekHf3joQ",
        "outputId": "e9e62637-1364-4f09-dc9c-f43481d814ac"
      },
      "source": [
        "maindf.dropna(inplace=True)\n",
        "af = maindf.shape[0]\n",
        "\n"
      ],
      "execution_count": 72,
      "outputs": [
        {
          "output_type": "stream",
          "text": [
            "/usr/local/lib/python3.7/dist-packages/ipykernel_launcher.py:1: SettingWithCopyWarning: \n",
            "A value is trying to be set on a copy of a slice from a DataFrame\n",
            "\n",
            "See the caveats in the documentation: https://pandas.pydata.org/pandas-docs/stable/user_guide/indexing.html#returning-a-view-versus-a-copy\n",
            "  \"\"\"Entry point for launching an IPython kernel.\n"
          ],
          "name": "stderr"
        }
      ]
    },
    {
      "cell_type": "code",
      "metadata": {
        "colab": {
          "base_uri": "https://localhost:8080/"
        },
        "id": "YyNSTOyw3s07",
        "outputId": "ba6ab28c-4a23-43cb-9a00-f000a5f636f0"
      },
      "source": [
        "bf-af"
      ],
      "execution_count": 73,
      "outputs": [
        {
          "output_type": "execute_result",
          "data": {
            "text/plain": [
              "26"
            ]
          },
          "metadata": {
            "tags": []
          },
          "execution_count": 73
        }
      ]
    },
    {
      "cell_type": "code",
      "metadata": {
        "colab": {
          "base_uri": "https://localhost:8080/",
          "height": 437
        },
        "id": "hBy5ftiX3uVK",
        "outputId": "27ceeea3-7ecf-4c9c-830e-6e8bbbf5c866"
      },
      "source": [
        "maindf"
      ],
      "execution_count": 74,
      "outputs": [
        {
          "output_type": "execute_result",
          "data": {
            "text/html": [
              "<div>\n",
              "<style scoped>\n",
              "    .dataframe tbody tr th:only-of-type {\n",
              "        vertical-align: middle;\n",
              "    }\n",
              "\n",
              "    .dataframe tbody tr th {\n",
              "        vertical-align: top;\n",
              "    }\n",
              "\n",
              "    .dataframe thead th {\n",
              "        text-align: right;\n",
              "    }\n",
              "</style>\n",
              "<table border=\"1\" class=\"dataframe\">\n",
              "  <thead>\n",
              "    <tr style=\"text-align: right;\">\n",
              "      <th></th>\n",
              "      <th>rowID</th>\n",
              "      <th>hpwren_timestamp</th>\n",
              "      <th>air_pressure</th>\n",
              "      <th>air_temp</th>\n",
              "      <th>avg_wind_direction</th>\n",
              "      <th>avg_wind_speed</th>\n",
              "      <th>max_wind_direction</th>\n",
              "      <th>max_wind_speed</th>\n",
              "      <th>min_wind_direction</th>\n",
              "      <th>min_wind_speed</th>\n",
              "      <th>relative_humidity</th>\n",
              "    </tr>\n",
              "  </thead>\n",
              "  <tbody>\n",
              "    <tr>\n",
              "      <th>0</th>\n",
              "      <td>0</td>\n",
              "      <td>10-09-2011 00:00</td>\n",
              "      <td>912.3</td>\n",
              "      <td>64.76</td>\n",
              "      <td>97.0</td>\n",
              "      <td>1.2</td>\n",
              "      <td>106.0</td>\n",
              "      <td>1.6</td>\n",
              "      <td>85.0</td>\n",
              "      <td>1.0</td>\n",
              "      <td>60.5</td>\n",
              "    </tr>\n",
              "    <tr>\n",
              "      <th>10</th>\n",
              "      <td>10</td>\n",
              "      <td>10-09-2011 00:10</td>\n",
              "      <td>912.3</td>\n",
              "      <td>62.24</td>\n",
              "      <td>144.0</td>\n",
              "      <td>1.2</td>\n",
              "      <td>167.0</td>\n",
              "      <td>1.8</td>\n",
              "      <td>115.0</td>\n",
              "      <td>0.6</td>\n",
              "      <td>38.5</td>\n",
              "    </tr>\n",
              "    <tr>\n",
              "      <th>20</th>\n",
              "      <td>20</td>\n",
              "      <td>10-09-2011 00:20</td>\n",
              "      <td>912.2</td>\n",
              "      <td>63.32</td>\n",
              "      <td>100.0</td>\n",
              "      <td>2.0</td>\n",
              "      <td>122.0</td>\n",
              "      <td>2.5</td>\n",
              "      <td>91.0</td>\n",
              "      <td>1.5</td>\n",
              "      <td>58.3</td>\n",
              "    </tr>\n",
              "    <tr>\n",
              "      <th>30</th>\n",
              "      <td>30</td>\n",
              "      <td>10-09-2011 00:30</td>\n",
              "      <td>912.2</td>\n",
              "      <td>62.60</td>\n",
              "      <td>91.0</td>\n",
              "      <td>2.0</td>\n",
              "      <td>103.0</td>\n",
              "      <td>2.4</td>\n",
              "      <td>71.0</td>\n",
              "      <td>1.4</td>\n",
              "      <td>57.9</td>\n",
              "    </tr>\n",
              "    <tr>\n",
              "      <th>40</th>\n",
              "      <td>40</td>\n",
              "      <td>10-09-2011 00:40</td>\n",
              "      <td>912.2</td>\n",
              "      <td>64.04</td>\n",
              "      <td>81.0</td>\n",
              "      <td>2.6</td>\n",
              "      <td>88.0</td>\n",
              "      <td>2.9</td>\n",
              "      <td>68.0</td>\n",
              "      <td>1.4</td>\n",
              "      <td>57.4</td>\n",
              "    </tr>\n",
              "    <tr>\n",
              "      <th>...</th>\n",
              "      <td>...</td>\n",
              "      <td>...</td>\n",
              "      <td>...</td>\n",
              "      <td>...</td>\n",
              "      <td>...</td>\n",
              "      <td>...</td>\n",
              "      <td>...</td>\n",
              "      <td>...</td>\n",
              "      <td>...</td>\n",
              "      <td>...</td>\n",
              "      <td>...</td>\n",
              "    </tr>\n",
              "    <tr>\n",
              "      <th>1048530</th>\n",
              "      <td>1048530</td>\n",
              "      <td>16-08-2013 04:08</td>\n",
              "      <td>916.7</td>\n",
              "      <td>78.62</td>\n",
              "      <td>195.0</td>\n",
              "      <td>0.9</td>\n",
              "      <td>197.0</td>\n",
              "      <td>1.0</td>\n",
              "      <td>193.0</td>\n",
              "      <td>0.8</td>\n",
              "      <td>9.0</td>\n",
              "    </tr>\n",
              "    <tr>\n",
              "      <th>1048540</th>\n",
              "      <td>1048540</td>\n",
              "      <td>16-08-2013 04:18</td>\n",
              "      <td>916.7</td>\n",
              "      <td>78.62</td>\n",
              "      <td>189.0</td>\n",
              "      <td>1.0</td>\n",
              "      <td>190.0</td>\n",
              "      <td>1.1</td>\n",
              "      <td>188.0</td>\n",
              "      <td>0.9</td>\n",
              "      <td>8.0</td>\n",
              "    </tr>\n",
              "    <tr>\n",
              "      <th>1048550</th>\n",
              "      <td>1048550</td>\n",
              "      <td>16-08-2013 04:28</td>\n",
              "      <td>916.7</td>\n",
              "      <td>78.80</td>\n",
              "      <td>187.0</td>\n",
              "      <td>0.6</td>\n",
              "      <td>189.0</td>\n",
              "      <td>0.6</td>\n",
              "      <td>186.0</td>\n",
              "      <td>0.5</td>\n",
              "      <td>8.5</td>\n",
              "    </tr>\n",
              "    <tr>\n",
              "      <th>1048560</th>\n",
              "      <td>1048560</td>\n",
              "      <td>16-08-2013 04:38</td>\n",
              "      <td>916.6</td>\n",
              "      <td>78.80</td>\n",
              "      <td>204.0</td>\n",
              "      <td>1.2</td>\n",
              "      <td>205.0</td>\n",
              "      <td>1.3</td>\n",
              "      <td>203.0</td>\n",
              "      <td>1.1</td>\n",
              "      <td>7.2</td>\n",
              "    </tr>\n",
              "    <tr>\n",
              "      <th>1048570</th>\n",
              "      <td>1048570</td>\n",
              "      <td>16-08-2013 04:48</td>\n",
              "      <td>916.6</td>\n",
              "      <td>78.62</td>\n",
              "      <td>195.0</td>\n",
              "      <td>1.0</td>\n",
              "      <td>196.0</td>\n",
              "      <td>1.1</td>\n",
              "      <td>194.0</td>\n",
              "      <td>0.9</td>\n",
              "      <td>9.1</td>\n",
              "    </tr>\n",
              "  </tbody>\n",
              "</table>\n",
              "<p>104832 rows × 11 columns</p>\n",
              "</div>"
            ],
            "text/plain": [
              "           rowID  hpwren_timestamp  ...  min_wind_speed  relative_humidity\n",
              "0              0  10-09-2011 00:00  ...             1.0               60.5\n",
              "10            10  10-09-2011 00:10  ...             0.6               38.5\n",
              "20            20  10-09-2011 00:20  ...             1.5               58.3\n",
              "30            30  10-09-2011 00:30  ...             1.4               57.9\n",
              "40            40  10-09-2011 00:40  ...             1.4               57.4\n",
              "...          ...               ...  ...             ...                ...\n",
              "1048530  1048530  16-08-2013 04:08  ...             0.8                9.0\n",
              "1048540  1048540  16-08-2013 04:18  ...             0.9                8.0\n",
              "1048550  1048550  16-08-2013 04:28  ...             0.5                8.5\n",
              "1048560  1048560  16-08-2013 04:38  ...             1.1                7.2\n",
              "1048570  1048570  16-08-2013 04:48  ...             0.9                9.1\n",
              "\n",
              "[104832 rows x 11 columns]"
            ]
          },
          "metadata": {
            "tags": []
          },
          "execution_count": 74
        }
      ]
    },
    {
      "cell_type": "code",
      "metadata": {
        "id": "44zBOqId3xRV"
      },
      "source": [
        "features=['air_pressure', 'air_temp', 'avg_wind_direction', 'avg_wind_speed', 'max_wind_speed', 'relative_humidity']"
      ],
      "execution_count": 75,
      "outputs": []
    },
    {
      "cell_type": "code",
      "metadata": {
        "id": "MqkH5dMA4E2l"
      },
      "source": [
        "select_df = maindf[features]"
      ],
      "execution_count": 76,
      "outputs": []
    },
    {
      "cell_type": "code",
      "metadata": {
        "colab": {
          "base_uri": "https://localhost:8080/"
        },
        "id": "oTZoPRiL4P6V",
        "outputId": "1d560518-189d-479e-a605-b44f39635460"
      },
      "source": [
        "select_df.columns"
      ],
      "execution_count": 77,
      "outputs": [
        {
          "output_type": "execute_result",
          "data": {
            "text/plain": [
              "Index(['air_pressure', 'air_temp', 'avg_wind_direction', 'avg_wind_speed',\n",
              "       'max_wind_speed', 'relative_humidity'],\n",
              "      dtype='object')"
            ]
          },
          "metadata": {
            "tags": []
          },
          "execution_count": 77
        }
      ]
    },
    {
      "cell_type": "code",
      "metadata": {
        "colab": {
          "base_uri": "https://localhost:8080/"
        },
        "id": "77NRVig-4SI2",
        "outputId": "6450593b-858f-47b0-84eb-0db41dda1f45"
      },
      "source": [
        "select_df.dropna(inplace=True)"
      ],
      "execution_count": 79,
      "outputs": [
        {
          "output_type": "stream",
          "text": [
            "/usr/local/lib/python3.7/dist-packages/ipykernel_launcher.py:1: SettingWithCopyWarning: \n",
            "A value is trying to be set on a copy of a slice from a DataFrame\n",
            "\n",
            "See the caveats in the documentation: https://pandas.pydata.org/pandas-docs/stable/user_guide/indexing.html#returning-a-view-versus-a-copy\n",
            "  \"\"\"Entry point for launching an IPython kernel.\n"
          ],
          "name": "stderr"
        }
      ]
    },
    {
      "cell_type": "markdown",
      "metadata": {
        "id": "x7aedMMcAPyk"
      },
      "source": [
        "### Standard scaler - It helps scale your data which fits into your model\n",
        "### Fit transform - Combines fit and does transform operation\n",
        "### It first caluclates how much data to be transformed to be scaled"
      ]
    },
    {
      "cell_type": "code",
      "metadata": {
        "id": "g3LNk__n_mxf"
      },
      "source": [
        "X = StandardScaler().fit_transform(select_df)"
      ],
      "execution_count": 80,
      "outputs": []
    },
    {
      "cell_type": "code",
      "metadata": {
        "colab": {
          "base_uri": "https://localhost:8080/"
        },
        "id": "U7XZJbR4_soL",
        "outputId": "1e2e4571-8314-4cf3-e602-b9305db60f1c"
      },
      "source": [
        "X"
      ],
      "execution_count": 81,
      "outputs": [
        {
          "output_type": "execute_result",
          "data": {
            "text/plain": [
              "array([[-1.48932625,  0.32206717, -0.67621576, -0.76894847, -0.74982427,\n",
              "         0.44601437],\n",
              "       [-1.48932625,  0.11256717, -0.18596485, -0.76894847, -0.66511542,\n",
              "        -0.39916312],\n",
              "       [-1.52172555,  0.20235289, -0.64492315, -0.37226787, -0.36863444,\n",
              "         0.36149662],\n",
              "       ...,\n",
              "       [-0.06375737,  1.48928149,  0.26256257, -1.06645891, -1.17336853,\n",
              "        -1.55167787],\n",
              "       [-0.09615666,  1.48928149,  0.43988737, -0.76894847, -0.87688755,\n",
              "        -1.60162017],\n",
              "       [-0.09615666,  1.4743172 ,  0.34600954, -0.86811862, -0.9615964 ,\n",
              "        -1.52862757]])"
            ]
          },
          "metadata": {
            "tags": []
          },
          "execution_count": 81
        }
      ]
    },
    {
      "cell_type": "markdown",
      "metadata": {
        "id": "fRwdnZDvA6Uw"
      },
      "source": [
        "### Invoking Kmeans cluster algorithm\n",
        "### Which help us to create 12 clusters"
      ]
    },
    {
      "cell_type": "code",
      "metadata": {
        "id": "ldVstouaAt2P"
      },
      "source": [
        "kmeans = KMeans(n_clusters=12)\n"
      ],
      "execution_count": 82,
      "outputs": []
    },
    {
      "cell_type": "code",
      "metadata": {
        "colab": {
          "base_uri": "https://localhost:8080/"
        },
        "id": "Nb-IyIa0At-2",
        "outputId": "e2f9cbeb-1851-4692-e441-b39f22c0126c"
      },
      "source": [
        "model = kmeans.fit(X)\n",
        "print(\"Model : \\n \", model)"
      ],
      "execution_count": 84,
      "outputs": [
        {
          "output_type": "stream",
          "text": [
            "Model : \n",
            "  KMeans(algorithm='auto', copy_x=True, init='k-means++', max_iter=300,\n",
            "       n_clusters=12, n_init=10, n_jobs=None, precompute_distances='auto',\n",
            "       random_state=None, tol=0.0001, verbose=0)\n"
          ],
          "name": "stdout"
        }
      ]
    },
    {
      "cell_type": "code",
      "metadata": {
        "colab": {
          "base_uri": "https://localhost:8080/"
        },
        "id": "gbNmXkZUAuB0",
        "outputId": "934a4996-570b-43aa-9646-b7eefda0582a"
      },
      "source": [
        "#center points for each feature and for each cluster\n",
        "centers = model.cluster_centers_\n",
        "centers"
      ],
      "execution_count": 86,
      "outputs": [
        {
          "output_type": "execute_result",
          "data": {
            "text/plain": [
              "array([[-0.14010102,  0.68014809,  0.36311824,  0.7042554 ,  0.65037715,\n",
              "        -0.22405881],\n",
              "       [ 0.91105162,  0.00841397,  0.83022442, -0.61360359, -0.59864954,\n",
              "        -0.75013176],\n",
              "       [ 0.30919806, -0.809429  , -1.20630733, -0.59647597, -0.60442666,\n",
              "         0.77416186],\n",
              "       [ 0.65083044, -0.97542179,  0.93032086, -0.41457847, -0.38780888,\n",
              "         1.09468816],\n",
              "       [-1.18877571, -0.69819361,  0.45971934,  2.06833058,  2.04770055,\n",
              "         0.72967468],\n",
              "       [-0.08602593,  1.23852432,  1.0828504 , -0.63340993, -0.60871605,\n",
              "        -0.7610714 ],\n",
              "       [ 1.17396663, -0.3726146 , -1.11172589,  2.04148326,  2.13254272,\n",
              "        -1.16201942],\n",
              "       [-0.7005131 ,  0.28267137,  0.12676182, -0.55288145, -0.56761405,\n",
              "         0.07698166],\n",
              "       [-0.11024637,  0.93035015, -1.26847251, -0.6243885 , -0.6372632 ,\n",
              "        -0.7212045 ],\n",
              "       [-0.91628421, -0.99256155,  0.33350002, -0.53974808, -0.53106031,\n",
              "         1.39312206],\n",
              "       [ 1.43512884, -0.09721426, -1.12612768, -0.06509745, -0.04756799,\n",
              "        -1.01232134],\n",
              "       [-0.69498538, -1.15993655,  0.34816989,  0.75347811,  0.74043151,\n",
              "         1.30297894]])"
            ]
          },
          "metadata": {
            "tags": []
          },
          "execution_count": 86
        }
      ]
    },
    {
      "cell_type": "markdown",
      "metadata": {
        "id": "LXoEm64EE6La"
      },
      "source": [
        "### Plot a graph to see the distance between each clusters"
      ]
    },
    {
      "cell_type": "code",
      "metadata": {
        "colab": {
          "base_uri": "https://localhost:8080/"
        },
        "id": "LHq_YfghF45I",
        "outputId": "6d063a32-0ccb-4d90-e1ee-4ff8415d9831"
      },
      "source": [
        "z"
      ],
      "execution_count": 93,
      "outputs": [
        {
          "output_type": "execute_result",
          "data": {
            "text/plain": [
              "[array([-0.14010102,  0.68014809,  0.36311824,  0.7042554 ,  0.65037715,\n",
              "        -0.22405881,  0.        ]),\n",
              " array([ 0.91105162,  0.00841397,  0.83022442, -0.61360359, -0.59864954,\n",
              "        -0.75013176,  1.        ]),\n",
              " array([ 0.30919806, -0.809429  , -1.20630733, -0.59647597, -0.60442666,\n",
              "         0.77416186,  2.        ]),\n",
              " array([ 0.65083044, -0.97542179,  0.93032086, -0.41457847, -0.38780888,\n",
              "         1.09468816,  3.        ]),\n",
              " array([-1.18877571, -0.69819361,  0.45971934,  2.06833058,  2.04770055,\n",
              "         0.72967468,  4.        ]),\n",
              " array([-0.08602593,  1.23852432,  1.0828504 , -0.63340993, -0.60871605,\n",
              "        -0.7610714 ,  5.        ]),\n",
              " array([ 1.17396663, -0.3726146 , -1.11172589,  2.04148326,  2.13254272,\n",
              "        -1.16201942,  6.        ]),\n",
              " array([-0.7005131 ,  0.28267137,  0.12676182, -0.55288145, -0.56761405,\n",
              "         0.07698166,  7.        ]),\n",
              " array([-0.11024637,  0.93035015, -1.26847251, -0.6243885 , -0.6372632 ,\n",
              "        -0.7212045 ,  8.        ]),\n",
              " array([-0.91628421, -0.99256155,  0.33350002, -0.53974808, -0.53106031,\n",
              "         1.39312206,  9.        ]),\n",
              " array([ 1.43512884, -0.09721426, -1.12612768, -0.06509745, -0.04756799,\n",
              "        -1.01232134, 10.        ]),\n",
              " array([-0.69498538, -1.15993655,  0.34816989,  0.75347811,  0.74043151,\n",
              "         1.30297894, 11.        ])]"
            ]
          },
          "metadata": {
            "tags": []
          },
          "execution_count": 93
        }
      ]
    },
    {
      "cell_type": "code",
      "metadata": {
        "id": "__GYumYwGCl_"
      },
      "source": [
        "# Function that creates a dataframe with column for cluster number, asigns cluster number 1-12\n",
        "def pd_centers(featuresUsed, centers):\n",
        "  colNames = list (features)\n",
        "  colNames.append('prediction')\n",
        "  z = [np.append(A,index)  for index, A in enumerate(centers)]\n",
        "  dk = pd.DataFrame(z, columns=colNames)\n",
        "  dk['prediction'] = dk['prediction'].astype(int)\n",
        "  return dk"
      ],
      "execution_count": 143,
      "outputs": []
    },
    {
      "cell_type": "code",
      "metadata": {
        "id": "2gOXzOWTMEXs"
      },
      "source": [
        "def parallel_plot(data):\n",
        "  my_colors = list(islice(cycle(['b', 'r', 'g', 'y', 'k']), None, len(data)))\n",
        "  plt.figure(figsize=(15,8)).gca().axes.set_ylim([-3,+3])\n",
        "  parallel_coordinates( data, 'prediction', color = my_colors, marker='o')"
      ],
      "execution_count": 162,
      "outputs": []
    },
    {
      "cell_type": "code",
      "metadata": {
        "id": "yu7EhzUJGcmV"
      },
      "source": [
        "P = pd_centers(features, centers)"
      ],
      "execution_count": 163,
      "outputs": []
    },
    {
      "cell_type": "code",
      "metadata": {
        "colab": {
          "base_uri": "https://localhost:8080/",
          "height": 418
        },
        "id": "zTLsBSuAGmrV",
        "outputId": "5c3d57a3-6576-45f2-bfa6-9c207c8c8bf0"
      },
      "source": [
        "P"
      ],
      "execution_count": 164,
      "outputs": [
        {
          "output_type": "execute_result",
          "data": {
            "text/html": [
              "<div>\n",
              "<style scoped>\n",
              "    .dataframe tbody tr th:only-of-type {\n",
              "        vertical-align: middle;\n",
              "    }\n",
              "\n",
              "    .dataframe tbody tr th {\n",
              "        vertical-align: top;\n",
              "    }\n",
              "\n",
              "    .dataframe thead th {\n",
              "        text-align: right;\n",
              "    }\n",
              "</style>\n",
              "<table border=\"1\" class=\"dataframe\">\n",
              "  <thead>\n",
              "    <tr style=\"text-align: right;\">\n",
              "      <th></th>\n",
              "      <th>air_pressure</th>\n",
              "      <th>air_temp</th>\n",
              "      <th>avg_wind_direction</th>\n",
              "      <th>avg_wind_speed</th>\n",
              "      <th>max_wind_speed</th>\n",
              "      <th>relative_humidity</th>\n",
              "      <th>prediction</th>\n",
              "    </tr>\n",
              "  </thead>\n",
              "  <tbody>\n",
              "    <tr>\n",
              "      <th>0</th>\n",
              "      <td>-0.140101</td>\n",
              "      <td>0.680148</td>\n",
              "      <td>0.363118</td>\n",
              "      <td>0.704255</td>\n",
              "      <td>0.650377</td>\n",
              "      <td>-0.224059</td>\n",
              "      <td>0</td>\n",
              "    </tr>\n",
              "    <tr>\n",
              "      <th>1</th>\n",
              "      <td>0.911052</td>\n",
              "      <td>0.008414</td>\n",
              "      <td>0.830224</td>\n",
              "      <td>-0.613604</td>\n",
              "      <td>-0.598650</td>\n",
              "      <td>-0.750132</td>\n",
              "      <td>1</td>\n",
              "    </tr>\n",
              "    <tr>\n",
              "      <th>2</th>\n",
              "      <td>0.309198</td>\n",
              "      <td>-0.809429</td>\n",
              "      <td>-1.206307</td>\n",
              "      <td>-0.596476</td>\n",
              "      <td>-0.604427</td>\n",
              "      <td>0.774162</td>\n",
              "      <td>2</td>\n",
              "    </tr>\n",
              "    <tr>\n",
              "      <th>3</th>\n",
              "      <td>0.650830</td>\n",
              "      <td>-0.975422</td>\n",
              "      <td>0.930321</td>\n",
              "      <td>-0.414578</td>\n",
              "      <td>-0.387809</td>\n",
              "      <td>1.094688</td>\n",
              "      <td>3</td>\n",
              "    </tr>\n",
              "    <tr>\n",
              "      <th>4</th>\n",
              "      <td>-1.188776</td>\n",
              "      <td>-0.698194</td>\n",
              "      <td>0.459719</td>\n",
              "      <td>2.068331</td>\n",
              "      <td>2.047701</td>\n",
              "      <td>0.729675</td>\n",
              "      <td>4</td>\n",
              "    </tr>\n",
              "    <tr>\n",
              "      <th>5</th>\n",
              "      <td>-0.086026</td>\n",
              "      <td>1.238524</td>\n",
              "      <td>1.082850</td>\n",
              "      <td>-0.633410</td>\n",
              "      <td>-0.608716</td>\n",
              "      <td>-0.761071</td>\n",
              "      <td>5</td>\n",
              "    </tr>\n",
              "    <tr>\n",
              "      <th>6</th>\n",
              "      <td>1.173967</td>\n",
              "      <td>-0.372615</td>\n",
              "      <td>-1.111726</td>\n",
              "      <td>2.041483</td>\n",
              "      <td>2.132543</td>\n",
              "      <td>-1.162019</td>\n",
              "      <td>6</td>\n",
              "    </tr>\n",
              "    <tr>\n",
              "      <th>7</th>\n",
              "      <td>-0.700513</td>\n",
              "      <td>0.282671</td>\n",
              "      <td>0.126762</td>\n",
              "      <td>-0.552881</td>\n",
              "      <td>-0.567614</td>\n",
              "      <td>0.076982</td>\n",
              "      <td>7</td>\n",
              "    </tr>\n",
              "    <tr>\n",
              "      <th>8</th>\n",
              "      <td>-0.110246</td>\n",
              "      <td>0.930350</td>\n",
              "      <td>-1.268473</td>\n",
              "      <td>-0.624389</td>\n",
              "      <td>-0.637263</td>\n",
              "      <td>-0.721205</td>\n",
              "      <td>8</td>\n",
              "    </tr>\n",
              "    <tr>\n",
              "      <th>9</th>\n",
              "      <td>-0.916284</td>\n",
              "      <td>-0.992562</td>\n",
              "      <td>0.333500</td>\n",
              "      <td>-0.539748</td>\n",
              "      <td>-0.531060</td>\n",
              "      <td>1.393122</td>\n",
              "      <td>9</td>\n",
              "    </tr>\n",
              "    <tr>\n",
              "      <th>10</th>\n",
              "      <td>1.435129</td>\n",
              "      <td>-0.097214</td>\n",
              "      <td>-1.126128</td>\n",
              "      <td>-0.065097</td>\n",
              "      <td>-0.047568</td>\n",
              "      <td>-1.012321</td>\n",
              "      <td>10</td>\n",
              "    </tr>\n",
              "    <tr>\n",
              "      <th>11</th>\n",
              "      <td>-0.694985</td>\n",
              "      <td>-1.159937</td>\n",
              "      <td>0.348170</td>\n",
              "      <td>0.753478</td>\n",
              "      <td>0.740432</td>\n",
              "      <td>1.302979</td>\n",
              "      <td>11</td>\n",
              "    </tr>\n",
              "  </tbody>\n",
              "</table>\n",
              "</div>"
            ],
            "text/plain": [
              "    air_pressure  air_temp  ...  relative_humidity  prediction\n",
              "0      -0.140101  0.680148  ...          -0.224059           0\n",
              "1       0.911052  0.008414  ...          -0.750132           1\n",
              "2       0.309198 -0.809429  ...           0.774162           2\n",
              "3       0.650830 -0.975422  ...           1.094688           3\n",
              "4      -1.188776 -0.698194  ...           0.729675           4\n",
              "5      -0.086026  1.238524  ...          -0.761071           5\n",
              "6       1.173967 -0.372615  ...          -1.162019           6\n",
              "7      -0.700513  0.282671  ...           0.076982           7\n",
              "8      -0.110246  0.930350  ...          -0.721205           8\n",
              "9      -0.916284 -0.992562  ...           1.393122           9\n",
              "10      1.435129 -0.097214  ...          -1.012321          10\n",
              "11     -0.694985 -1.159937  ...           1.302979          11\n",
              "\n",
              "[12 rows x 7 columns]"
            ]
          },
          "metadata": {
            "tags": []
          },
          "execution_count": 164
        }
      ]
    },
    {
      "cell_type": "markdown",
      "metadata": {
        "id": "E7OYBXuhQrHt"
      },
      "source": [
        "## How to find dry days\n",
        "### we have humidity column in our dataframe\n",
        "### which has humidity less than -0.5 we can consider as dry days"
      ]
    },
    {
      "cell_type": "code",
      "metadata": {
        "colab": {
          "base_uri": "https://localhost:8080/",
          "height": 488
        },
        "id": "937C_9BiQpTb",
        "outputId": "9c960cd4-bb4d-4980-eba6-f9d4a9d64cff"
      },
      "source": [
        "# x -axis is denotes each feature\n",
        "# y axis center points\n",
        "# lines indicates cluster \n",
        "parallel_plot(P[P['relative_humidity']<-0.5])"
      ],
      "execution_count": 166,
      "outputs": [
        {
          "output_type": "display_data",
          "data": {
            "image/png": "[encoded data removed]",
            "text/plain": [
              "<Figure size 1080x576 with 1 Axes>"
            ]
          },
          "metadata": {
            "tags": [],
            "needs_background": "light"
          }
        }
      ]
    },
    {
      "cell_type": "code",
      "metadata": {
        "id": "uZz4enyGT1RL"
      },
      "source": [
        ""
      ],
      "execution_count": null,
      "outputs": []
    },
    {
      "cell_type": "markdown",
      "metadata": {
        "id": "V5MxQ1p0T12z"
      },
      "source": [
        "# Warm days"
      ]
    },
    {
      "cell_type": "code",
      "metadata": {
        "colab": {
          "base_uri": "https://localhost:8080/",
          "height": 488
        },
        "id": "4NzK22bbT2z_",
        "outputId": "da99d01e-6866-434c-cca7-72f17215f11a"
      },
      "source": [
        "parallel_plot(P[P['air_temp']>0.5])"
      ],
      "execution_count": 167,
      "outputs": [
        {
          "output_type": "display_data",
          "data": {
            "image/png": "[encoded data removed]",
            "text/plain": [
              "<Figure size 1080x576 with 1 Axes>"
            ]
          },
          "metadata": {
            "tags": [],
            "needs_background": "light"
          }
        }
      ]
    },
    {
      "cell_type": "code",
      "metadata": {
        "id": "niKY1n09UCPI"
      },
      "source": [
        ""
      ],
      "execution_count": null,
      "outputs": []
    },
    {
      "cell_type": "markdown",
      "metadata": {
        "id": "jBJHx0AVUHYg"
      },
      "source": [
        "# Cool Days"
      ]
    },
    {
      "cell_type": "code",
      "metadata": {
        "colab": {
          "base_uri": "https://localhost:8080/",
          "height": 488
        },
        "id": "lkE2QnJFUJhH",
        "outputId": "46fdf131-83c4-4fed-b9e0-c2fbfa1e13cd"
      },
      "source": [
        "parallel_plot(P[ (P['relative_humidity']>0.5) & (P['air_temp'] <0.5)])"
      ],
      "execution_count": 169,
      "outputs": [
        {
          "output_type": "display_data",
          "data": {
            "image/png": "[encoded data removed]",
            "text/plain": [
              "<Figure size 1080x576 with 1 Axes>"
            ]
          },
          "metadata": {
            "tags": [],
            "needs_background": "light"
          }
        }
      ]
    },
    {
      "cell_type": "markdown",
      "metadata": {
        "id": "fm8dCuTfUkDu"
      },
      "source": [
        ""
      ]
    },
    {
      "cell_type": "markdown",
      "metadata": {
        "id": "4lA4Q3W4UpGc"
      },
      "source": [
        "# Conclusion\n",
        "## These are the clusters that has behaviour Dry days, warm days, and cool days\n",
        "## Parallel feature plot helps for analysing clusters which we have high dimensionality of features to gain the intution of each cluster differ for each feature\n",
        "\n",
        "\n",
        "### To me, for example, cluster four seems to correspond to hot\n",
        "### and dry days with fairly stagnant air.\n",
        "### So just look at them and try to imagine the air on that day, and how you could further now"
      ]
    },
    {
      "cell_type": "code",
      "metadata": {
        "id": "vVeNkqHnUjMX"
      },
      "source": [
        ""
      ],
      "execution_count": null,
      "outputs": []
    },
    {
      "cell_type": "code",
      "metadata": {
        "id": "5vL0H7YUUjTI"
      },
      "source": [
        ""
      ],
      "execution_count": null,
      "outputs": []
    }
  ]
}